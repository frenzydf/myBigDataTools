{
 "cells": [
  {
   "cell_type": "markdown",
   "id": "43c93f5f",
   "metadata": {},
   "source": [
    "Ejercicio - TV Movies Dataset con Dask\n",
    "En este caso vamos a usar un conjunto de datos de películas y series de televisión de Amazon Prime, en donde se encuentran las criticas(reviews) que hacen los usuarios."
   ]
  }
 ],
 "metadata": {
  "language_info": {
   "name": "python"
  }
 },
 "nbformat": 4,
 "nbformat_minor": 5
}
