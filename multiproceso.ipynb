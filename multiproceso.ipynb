{
 "cells": [
  {
   "cell_type": "code",
   "execution_count": null,
   "id": "6925d9b6",
   "metadata": {},
   "outputs": [
    {
     "name": "stdout",
     "output_type": "stream",
     "text": [
      "Tiempo secuencial: 0.1762 segundos\n",
      "Resultado secuencial: 199999990000000\n"
     ]
    }
   ],
   "source": [
    "import time\n",
    "import multiprocessing\n",
    "\n",
    "# Función para sumar una lista de números\n",
    "def sum_numbers(numbers):\n",
    "    return sum(numbers)\n",
    "\n",
    "def main():\n",
    "    # Crear una lista de números grandes\n",
    "    numbers = list(range(1, 2 * 10**7))\n",
    "\n",
    "    # Dividir la lista en dos partes\n",
    "    mid = len(numbers) // 2\n",
    "    part1 = numbers[:mid]\n",
    "    part2 = numbers[mid:]\n",
    "\n",
    "    # Medir el tiempo de ejecución secuencial\n",
    "    start_time = time.time()\n",
    "\n",
    "    result1 = sum_numbers(part1)\n",
    "    result2 = sum_numbers(part2)\n",
    "    sequential_result = result1 + result2\n",
    "\n",
    "    sequential_time = time.time() - start_time\n",
    "    print(f\"Tiempo secuencial: {sequential_time:.4f} segundos\")\n",
    "    print(f\"Resultado secuencial: {sequential_result}\")\n",
    "\n",
    "    # Medir el tiempo de ejecución con multiprocessing\n",
    "    start_time = time.time()\n",
    "\n",
    "    # Crear un pool de procesos\n",
    "    with multiprocessing.Pool(processes=2) as pool:\n",
    "        results = pool.map(sum_numbers, [part1, part2])\n",
    "\n",
    "    multiprocessing_result = sum(results)\n",
    "\n",
    "    multiprocessing_time = time.time() - start_time\n",
    "    print(f\"Tiempo con multiprocessing: {multiprocessing_time:.4f} segundos\")\n",
    "    print(f\"Resultado con multiprocessing: {multiprocessing_result}\")\n",
    "\n",
    "if __name__ == '__main__':\n",
    "    main()\n"
   ]
  }
 ],
 "metadata": {
  "kernelspec": {
   "display_name": "Python 3",
   "language": "python",
   "name": "python3"
  },
  "language_info": {
   "codemirror_mode": {
    "name": "ipython",
    "version": 3
   },
   "file_extension": ".py",
   "mimetype": "text/x-python",
   "name": "python",
   "nbconvert_exporter": "python",
   "pygments_lexer": "ipython3",
   "version": "3.13.7"
  }
 },
 "nbformat": 4,
 "nbformat_minor": 5
}
