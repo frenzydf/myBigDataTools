{
 "cells": [
  {
   "cell_type": "code",
   "execution_count": null,
   "id": "6925d9b6",
   "metadata": {},
   "outputs": [
    {
     "name": "stdout",
     "output_type": "stream",
     "text": [
      "Tiempo secuencial: 0.1762 segundos\n",
      "Resultado secuencial: 199999990000000\n"
     ]
    }
   ],
   "source": [
    "import time\n",
    "import multiprocessing\n",
    "\n",
    "# Función para sumar una lista de números\n",
    "def sum_numbers(numbers):\n",
    "    return sum(numbers)\n",
    "\n",
    "def main():\n",
    "    # Crear una lista de números grandes\n",
    "    numbers = list(range(1, 2 * 10**7))\n",
    "\n",
    "    # Dividir la lista en dos partes\n",
    "    mid = len(numbers) // 2\n",
    "    part1 = numbers[:mid]\n",
    "    part2 = numbers[mid:]\n",
    "\n",
    "    # Medir el tiempo de ejecución secuencial\n",
    "    start_time = time.time()\n",
    "\n",
    "    result1 = sum_numbers(part1)\n",
    "    result2 = sum_numbers(part2)\n",
    "    sequential_result = result1 + result2\n",
    "\n",
    "    sequential_time = time.time() - start_time\n",
    "    print(f\"Tiempo secuencial: {sequential_time:.4f} segundos\")\n",
    "    print(f\"Resultado secuencial: {sequential_result}\")\n",
    "\n",
    "    # Medir el tiempo de ejecución con multiprocessing\n",
    "    start_time = time.time()\n",
    "\n",
    "    # Crear un pool de procesos\n",
    "    with multiprocessing.Pool(processes=2) as pool:\n",
    "        results = pool.map(sum_numbers, [part1, part2])\n",
    "\n",
    "    multiprocessing_result = sum(results)\n",
    "\n",
    "    multiprocessing_time = time.time() - start_time\n",
    "    print(f\"Tiempo con multiprocessing: {multiprocessing_time:.4f} segundos\")\n",
    "    print(f\"Resultado con multiprocessing: {multiprocessing_result}\")\n",
    "\n",
    "if __name__ == '__main__':\n",
    "    main()\n"
   ]
  },
  {
   "cell_type": "code",
   "execution_count": null,
   "id": "48c8644e",
   "metadata": {},
   "outputs": [
    {
     "name": "stdout",
     "output_type": "stream",
     "text": [
      "Iniciando ejecución secuencial...\n",
      "Tiempo secuencial: 6.6303 segundos\n",
      "Aprox. Pi secuencial: 3.14159264\n",
      "----------------------------------------\n",
      "Iniciando ejecución con multiprocessing (8 procesos)...\n"
     ]
    }
   ],
   "source": [
    "import time\n",
    "import multiprocessing\n",
    "\n",
    "# Función para aproximar pi usando la serie de Leibniz\n",
    "def leibniz_pi(n_terms):\n",
    "    pi_approx = 0\n",
    "    for i in range(n_terms):\n",
    "        pi_approx += ((-1)**i) / (2 * i + 1)\n",
    "    return pi_approx * 4\n",
    "\n",
    "def main():\n",
    "    n_terms = 10**8  # Número de términos para la aproximación\n",
    "\n",
    "    # Medir el tiempo de ejecución secuencial\n",
    "    start_time = time.time()\n",
    "\n",
    "    result1 = leibniz_pi(n_terms // 2)\n",
    "    result2 = leibniz_pi(n_terms // 2)\n",
    "    sequential_result = result1 + result2\n",
    "\n",
    "    sequential_time = time.time() - start_time\n",
    "    print(f\"Tiempo secuencial: {sequential_time:.4f} segundos\")\n",
    "    print(f\"Resultado secuencial: {sequential_result}\")\n",
    "\n",
    "    # Medir el tiempo de ejecución con multiprocessing\n",
    "    start_time = time.time()\n",
    "\n",
    "    # Crear un pool de procesos\n",
    "    with multiprocessing.Pool(processes=2) as pool:\n",
    "        results = pool.map(leibniz_pi, [n_terms // 2, n_terms // 2])\n",
    "\n",
    "    multiprocessing_result = sum(results)\n",
    "\n",
    "    multiprocessing_time = time.time() - start_time\n",
    "    print(f\"Tiempo con multiprocessing: {multiprocessing_time:.4f} segundos\")\n",
    "    print(f\"Resultado con multiprocessing: {multiprocessing_result}\")\n",
    "\n",
    "if __name__ == '__main__':\n",
    "    main()\n",
    "\n"
   ]
  },
  {
   "cell_type": "code",
   "execution_count": 1,
   "id": "c78c8349",
   "metadata": {},
   "outputs": [
    {
     "name": "stdout",
     "output_type": "stream",
     "text": [
      "Tiempo secuencial con Numba: 0.8135 segundos\n",
      "Resultado con Numba: 3.1415925535897915\n"
     ]
    }
   ],
   "source": [
    "import time\n",
    "from numba import jit\n",
    "\n",
    "# Función para aproximar pi usando la serie de Leibniz, optimizada con Numba\n",
    "@jit(nopython=True)\n",
    "def leibniz_pi_numba(n_terms):\n",
    "    pi_approx = 0\n",
    "    for i in range(n_terms):\n",
    "        pi_approx += ((-1)**i) / (2 * i + 1)\n",
    "    return pi_approx * 4\n",
    "\n",
    "def main():\n",
    "    n_terms = 10**7  # Número de términos para la aproximación\n",
    "\n",
    "    # Medir el tiempo de ejecución secuencial con Numba\n",
    "    start_time = time.time()\n",
    "\n",
    "    result = leibniz_pi_numba(n_terms)\n",
    "    sequential_time = time.time() - start_time\n",
    "    print(f\"Tiempo secuencial con Numba: {sequential_time:.4f} segundos\")\n",
    "    print(f\"Resultado con Numba: {result}\")\n",
    "\n",
    "if __name__ == '__main__':\n",
    "    main()\n"
   ]
  },
  {
   "cell_type": "code",
   "execution_count": null,
   "id": "932bf18e",
   "metadata": {},
   "outputs": [
    {
     "name": "stdout",
     "output_type": "stream",
     "text": [
      "Tiempo secuencial con Numba: 0.1529 segundos\n",
      "Resultado secuencial con Numba: 6.283184907179559\n",
      "Tiempo con multiprocessing y Numba: 0.7121 segundos\n",
      "Resultado con multiprocessing y Numba: 6.283184907179559\n"
     ]
    }
   ],
   "source": [
    "import time\n",
    "import multiprocessing\n",
    "from numba import jit\n",
    "\n",
    "# Función para aproximar pi usando la serie de Leibniz, optimizada con Numba\n",
    "@jit(nopython=True)\n",
    "def leibniz_pi_numba(n_terms):\n",
    "    pi_approx = 0\n",
    "    for i in range(n_terms):\n",
    "        pi_approx += ((-1)**i) / (2 * i + 1)\n",
    "    return pi_approx * 4\n",
    "\n",
    "def main():\n",
    "    n_terms = 10**7  # Número de términos para la aproximación\n",
    "\n",
    "    # Medir el tiempo de ejecución secuencial con Numba\n",
    "    start_time = time.time()\n",
    "\n",
    "    result1 = leibniz_pi_numba(n_terms // 2)\n",
    "    result2 = leibniz_pi_numba(n_terms // 2)\n",
    "    sequential_result = result1 + result2\n",
    "\n",
    "    sequential_time = time.time() - start_time\n",
    "    print(f\"Tiempo secuencial con Numba: {sequential_time:.4f} segundos\")\n",
    "    print(f\"Resultado secuencial con Numba: {sequential_result}\")\n",
    "\n",
    "    # Medir el tiempo de ejecución con multiprocessing y Numba\n",
    "    start_time = time.time()\n",
    "\n",
    "    # Crear un pool de procesos\n",
    "    with multiprocessing.Pool(processes=2) as pool:\n",
    "        results = pool.map(leibniz_pi_numba, [n_terms // 2, n_terms // 2])\n",
    "\n",
    "    multiprocessing_result = sum(results)\n",
    "\n",
    "    multiprocessing_time = time.time() - start_time\n",
    "    print(f\"Tiempo con multiprocessing y Numba: {multiprocessing_time:.4f} segundos\")\n",
    "    print(f\"Resultado con multiprocessing y Numba: {multiprocessing_result}\")\n",
    "\n",
    "if __name__ == '__main__':\n",
    "    main()\n"
   ]
  },
  {
   "cell_type": "code",
   "execution_count": 7,
   "id": "329cbd27",
   "metadata": {},
   "outputs": [],
   "source": [
    "import numpy as np\n",
    "import numba\n",
    "from numba import jit #jit complier"
   ]
  },
  {
   "cell_type": "code",
   "execution_count": 8,
   "id": "dc493ea8",
   "metadata": {},
   "outputs": [],
   "source": [
    "SQRT_2PI = np.sqrt(2 * np.pi)\n",
    "\n",
    "@jit(nopython=True, parallel=True)\n",
    "def gaussians(x, means, widths):\n",
    "    '''Return the value of gaussian kernels.\n",
    "    \n",
    "    x - location of evaluation\n",
    "    means - array of kernel means\n",
    "    widths - array of kernel widths\n",
    "    '''\n",
    "    n = means.shape[0]\n",
    "    result = np.exp( -0.5 * ((x - means) / widths)**2 ) / widths\n",
    "    return result / SQRT_2PI / n"
   ]
  },
  {
   "cell_type": "code",
   "execution_count": null,
   "id": "2dcf0d58",
   "metadata": {},
   "outputs": [],
   "source": [
    "means = np.random.uniform(-1, 1, size=1000000)\n",
    "widths = np.random.uniform(0.1, 0.3, size=1000000)\n",
    "\n",
    "gaussians(0.4, means, widths)"
   ]
  },
  {
   "cell_type": "code",
   "execution_count": null,
   "id": "5caf4e5d",
   "metadata": {},
   "outputs": [],
   "source": [
    "gaussians_nothread = jit(nopython=True)(gaussians.py_func)\n",
    "\n",
    "%timeit gaussians_nothread(0.4, means, widths)\n",
    "%timeit gaussians(0.4, means, widths)"
   ]
  }
 ],
 "metadata": {
  "kernelspec": {
   "display_name": "Python 3",
   "language": "python",
   "name": "python3"
  },
  "language_info": {
   "codemirror_mode": {
    "name": "ipython",
    "version": 3
   },
   "file_extension": ".py",
   "mimetype": "text/x-python",
   "name": "python",
   "nbconvert_exporter": "python",
   "pygments_lexer": "ipython3",
   "version": "3.13.7"
  }
 },
 "nbformat": 4,
 "nbformat_minor": 5
}
